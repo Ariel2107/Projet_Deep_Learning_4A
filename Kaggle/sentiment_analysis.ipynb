{
 "cells": [
  {
   "cell_type": "code",
   "execution_count": 72,
   "metadata": {
    "collapsed": true,
    "pycharm": {
     "name": "#%%\n"
    }
   },
   "outputs": [],
   "source": [
    "import nltk\n",
    "import mgzip\n",
    "import pickle\n",
    "import numpy as np\n",
    "import pandas as pd\n",
    "\n",
    "from nltk.sentiment.vader import SentimentIntensityAnalyzer\n",
    "from sklearn.metrics import mean_squared_error, accuracy_score"
   ]
  },
  {
   "cell_type": "markdown",
   "source": [
    "## 1. Polarity analysis using Python Vader"
   ],
   "metadata": {
    "collapsed": false,
    "pycharm": {
     "name": "#%% md\n"
    }
   }
  },
  {
   "cell_type": "code",
   "execution_count": 56,
   "outputs": [
    {
     "name": "stderr",
     "output_type": "stream",
     "text": [
      "[nltk_data] Downloading package vader_lexicon to\n",
      "[nltk_data]     C:\\Users\\dalex\\AppData\\Roaming\\nltk_data...\n",
      "[nltk_data]   Package vader_lexicon is already up-to-date!\n"
     ]
    }
   ],
   "source": [
    "nltk.download('vader_lexicon')\n",
    "analyser = SentimentIntensityAnalyzer()"
   ],
   "metadata": {
    "collapsed": false,
    "pycharm": {
     "name": "#%%\n"
    }
   }
  },
  {
   "cell_type": "code",
   "execution_count": 57,
   "outputs": [],
   "source": [
    "ZIP_PATH = './data/cleanedReviews.gz'"
   ],
   "metadata": {
    "collapsed": false,
    "pycharm": {
     "name": "#%%\n"
    }
   }
  },
  {
   "cell_type": "code",
   "execution_count": 58,
   "outputs": [
    {
     "data": {
      "text/plain": "                            user_id   book_id  \\\n0  8842281e1d1347389f2ab93d60773d4d  18245960   \n1  8842281e1d1347389f2ab93d60773d4d     16981   \n2  8842281e1d1347389f2ab93d60773d4d  28684704   \n3  8842281e1d1347389f2ab93d60773d4d  27161156   \n4  8842281e1d1347389f2ab93d60773d4d  25884323   \n\n                          review_id  rating  \\\n0  dfdbb7b0eb5a7e4c26d59a937e2e5feb       5   \n1  a5d2c3628987712d0e05c4f90798eb67       3   \n2  2ede853b14dc4583f96cf5d120af636f       3   \n3  ced5675e55cd9d38a524743f5c40996e       0   \n4  332732725863131279a8e345b63ac33e       4   \n\n                                         review_text  \\\n0  This is a special book. It started slow for ab...   \n1  Recommended by Don Katz. Avail for free in Dec...   \n2  A fun, fast paced science fiction thriller. I ...   \n3  Recommended reading to understand what is goin...   \n4  I really enjoyed this book, and there is a lot...   \n\n                       date_added                    date_updated  \\\n0  Sun Jul 30 07:44:10 -0700 2017  Wed Aug 30 00:00:26 -0700 2017   \n1  Mon Dec 05 10:46:44 -0800 2016  Wed Mar 22 11:37:04 -0700 2017   \n2  Tue Nov 15 11:29:22 -0800 2016  Mon Mar 20 23:40:27 -0700 2017   \n3  Wed Nov 09 17:37:04 -0800 2016  Wed Nov 09 17:38:20 -0800 2016   \n4  Mon Apr 25 09:31:23 -0700 2016  Mon Apr 25 09:31:23 -0700 2016   \n\n                          read_at                      started_at  n_votes  \\\n0  Sat Aug 26 12:05:52 -0700 2017  Tue Aug 15 13:23:18 -0700 2017       28   \n1                             NaN                             NaN        1   \n2  Sat Mar 18 23:22:42 -0700 2017  Fri Mar 17 23:45:40 -0700 2017       22   \n3                             NaN                             NaN        5   \n4  Sun Jun 26 00:00:00 -0700 2016  Sat May 28 00:00:00 -0700 2016        9   \n\n   n_comments                                cleaned_review_text  \n0           1  special book start slow first third middl thir...  \n1           0                   recommend katz avail free decemb  \n2           0  fun fast pace scienc fiction thriller read nig...  \n3           1  recommend read understand go middl america pos...  \n4           1  realli enjoy book lot recommend drag littl end...  ",
      "text/html": "<div>\n<style scoped>\n    .dataframe tbody tr th:only-of-type {\n        vertical-align: middle;\n    }\n\n    .dataframe tbody tr th {\n        vertical-align: top;\n    }\n\n    .dataframe thead th {\n        text-align: right;\n    }\n</style>\n<table border=\"1\" class=\"dataframe\">\n  <thead>\n    <tr style=\"text-align: right;\">\n      <th></th>\n      <th>user_id</th>\n      <th>book_id</th>\n      <th>review_id</th>\n      <th>rating</th>\n      <th>review_text</th>\n      <th>date_added</th>\n      <th>date_updated</th>\n      <th>read_at</th>\n      <th>started_at</th>\n      <th>n_votes</th>\n      <th>n_comments</th>\n      <th>cleaned_review_text</th>\n    </tr>\n  </thead>\n  <tbody>\n    <tr>\n      <th>0</th>\n      <td>8842281e1d1347389f2ab93d60773d4d</td>\n      <td>18245960</td>\n      <td>dfdbb7b0eb5a7e4c26d59a937e2e5feb</td>\n      <td>5</td>\n      <td>This is a special book. It started slow for ab...</td>\n      <td>Sun Jul 30 07:44:10 -0700 2017</td>\n      <td>Wed Aug 30 00:00:26 -0700 2017</td>\n      <td>Sat Aug 26 12:05:52 -0700 2017</td>\n      <td>Tue Aug 15 13:23:18 -0700 2017</td>\n      <td>28</td>\n      <td>1</td>\n      <td>special book start slow first third middl thir...</td>\n    </tr>\n    <tr>\n      <th>1</th>\n      <td>8842281e1d1347389f2ab93d60773d4d</td>\n      <td>16981</td>\n      <td>a5d2c3628987712d0e05c4f90798eb67</td>\n      <td>3</td>\n      <td>Recommended by Don Katz. Avail for free in Dec...</td>\n      <td>Mon Dec 05 10:46:44 -0800 2016</td>\n      <td>Wed Mar 22 11:37:04 -0700 2017</td>\n      <td>NaN</td>\n      <td>NaN</td>\n      <td>1</td>\n      <td>0</td>\n      <td>recommend katz avail free decemb</td>\n    </tr>\n    <tr>\n      <th>2</th>\n      <td>8842281e1d1347389f2ab93d60773d4d</td>\n      <td>28684704</td>\n      <td>2ede853b14dc4583f96cf5d120af636f</td>\n      <td>3</td>\n      <td>A fun, fast paced science fiction thriller. I ...</td>\n      <td>Tue Nov 15 11:29:22 -0800 2016</td>\n      <td>Mon Mar 20 23:40:27 -0700 2017</td>\n      <td>Sat Mar 18 23:22:42 -0700 2017</td>\n      <td>Fri Mar 17 23:45:40 -0700 2017</td>\n      <td>22</td>\n      <td>0</td>\n      <td>fun fast pace scienc fiction thriller read nig...</td>\n    </tr>\n    <tr>\n      <th>3</th>\n      <td>8842281e1d1347389f2ab93d60773d4d</td>\n      <td>27161156</td>\n      <td>ced5675e55cd9d38a524743f5c40996e</td>\n      <td>0</td>\n      <td>Recommended reading to understand what is goin...</td>\n      <td>Wed Nov 09 17:37:04 -0800 2016</td>\n      <td>Wed Nov 09 17:38:20 -0800 2016</td>\n      <td>NaN</td>\n      <td>NaN</td>\n      <td>5</td>\n      <td>1</td>\n      <td>recommend read understand go middl america pos...</td>\n    </tr>\n    <tr>\n      <th>4</th>\n      <td>8842281e1d1347389f2ab93d60773d4d</td>\n      <td>25884323</td>\n      <td>332732725863131279a8e345b63ac33e</td>\n      <td>4</td>\n      <td>I really enjoyed this book, and there is a lot...</td>\n      <td>Mon Apr 25 09:31:23 -0700 2016</td>\n      <td>Mon Apr 25 09:31:23 -0700 2016</td>\n      <td>Sun Jun 26 00:00:00 -0700 2016</td>\n      <td>Sat May 28 00:00:00 -0700 2016</td>\n      <td>9</td>\n      <td>1</td>\n      <td>realli enjoy book lot recommend drag littl end...</td>\n    </tr>\n  </tbody>\n</table>\n</div>"
     },
     "execution_count": 58,
     "metadata": {},
     "output_type": "execute_result"
    }
   ],
   "source": [
    "with mgzip.open(ZIP_PATH, 'rb') as f:\n",
    "    df = pickle.load(f)\n",
    "\n",
    "df.head()"
   ],
   "metadata": {
    "collapsed": false,
    "pycharm": {
     "name": "#%%\n"
    }
   }
  },
  {
   "cell_type": "code",
   "execution_count": 59,
   "outputs": [
    {
     "data": {
      "text/plain": "                          review_id  \\\n0  dfdbb7b0eb5a7e4c26d59a937e2e5feb   \n1  a5d2c3628987712d0e05c4f90798eb67   \n2  2ede853b14dc4583f96cf5d120af636f   \n3  ced5675e55cd9d38a524743f5c40996e   \n4  332732725863131279a8e345b63ac33e   \n\n                                 cleaned_review_text  rating  \n0  special book start slow first third middl thir...       5  \n1                   recommend katz avail free decemb       3  \n2  fun fast pace scienc fiction thriller read nig...       3  \n3  recommend read understand go middl america pos...       0  \n4  realli enjoy book lot recommend drag littl end...       4  ",
      "text/html": "<div>\n<style scoped>\n    .dataframe tbody tr th:only-of-type {\n        vertical-align: middle;\n    }\n\n    .dataframe tbody tr th {\n        vertical-align: top;\n    }\n\n    .dataframe thead th {\n        text-align: right;\n    }\n</style>\n<table border=\"1\" class=\"dataframe\">\n  <thead>\n    <tr style=\"text-align: right;\">\n      <th></th>\n      <th>review_id</th>\n      <th>cleaned_review_text</th>\n      <th>rating</th>\n    </tr>\n  </thead>\n  <tbody>\n    <tr>\n      <th>0</th>\n      <td>dfdbb7b0eb5a7e4c26d59a937e2e5feb</td>\n      <td>special book start slow first third middl thir...</td>\n      <td>5</td>\n    </tr>\n    <tr>\n      <th>1</th>\n      <td>a5d2c3628987712d0e05c4f90798eb67</td>\n      <td>recommend katz avail free decemb</td>\n      <td>3</td>\n    </tr>\n    <tr>\n      <th>2</th>\n      <td>2ede853b14dc4583f96cf5d120af636f</td>\n      <td>fun fast pace scienc fiction thriller read nig...</td>\n      <td>3</td>\n    </tr>\n    <tr>\n      <th>3</th>\n      <td>ced5675e55cd9d38a524743f5c40996e</td>\n      <td>recommend read understand go middl america pos...</td>\n      <td>0</td>\n    </tr>\n    <tr>\n      <th>4</th>\n      <td>332732725863131279a8e345b63ac33e</td>\n      <td>realli enjoy book lot recommend drag littl end...</td>\n      <td>4</td>\n    </tr>\n  </tbody>\n</table>\n</div>"
     },
     "execution_count": 59,
     "metadata": {},
     "output_type": "execute_result"
    }
   ],
   "source": [
    "df_reviews = df[['review_id', 'cleaned_review_text', 'rating']]\n",
    "df_reviews.head()"
   ],
   "metadata": {
    "collapsed": false,
    "pycharm": {
     "name": "#%%\n"
    }
   }
  },
  {
   "cell_type": "code",
   "execution_count": 60,
   "outputs": [
    {
     "data": {
      "text/plain": "189"
     },
     "execution_count": 60,
     "metadata": {},
     "output_type": "execute_result"
    }
   ],
   "source": [
    "len(df_reviews[df_reviews['cleaned_review_text'] == ''])"
   ],
   "metadata": {
    "collapsed": false,
    "pycharm": {
     "name": "#%%\n"
    }
   }
  },
  {
   "cell_type": "code",
   "execution_count": 61,
   "outputs": [
    {
     "data": {
      "text/plain": "0"
     },
     "execution_count": 61,
     "metadata": {},
     "output_type": "execute_result"
    }
   ],
   "source": [
    "len(df_reviews[df_reviews['cleaned_review_text'].isna()])"
   ],
   "metadata": {
    "collapsed": false,
    "pycharm": {
     "name": "#%%\n"
    }
   }
  },
  {
   "cell_type": "code",
   "execution_count": 63,
   "outputs": [
    {
     "data": {
      "text/plain": "899811"
     },
     "execution_count": 63,
     "metadata": {},
     "output_type": "execute_result"
    }
   ],
   "source": [
    "df_reviews = df_reviews[df_reviews['cleaned_review_text'] != '']\n",
    "len(df_reviews)"
   ],
   "metadata": {
    "collapsed": false,
    "pycharm": {
     "name": "#%%\n"
    }
   }
  },
  {
   "cell_type": "code",
   "execution_count": 64,
   "outputs": [
    {
     "data": {
      "text/plain": "0"
     },
     "execution_count": 64,
     "metadata": {},
     "output_type": "execute_result"
    }
   ],
   "source": [
    "len(df_reviews[df_reviews['cleaned_review_text'] == ''])"
   ],
   "metadata": {
    "collapsed": false,
    "pycharm": {
     "name": "#%%\n"
    }
   }
  },
  {
   "cell_type": "code",
   "execution_count": 68,
   "outputs": [],
   "source": [
    "def pred_vader(review_text: str) -> float:\n",
    "    return analyser.polarity_scores(review_text)['compound']"
   ],
   "metadata": {
    "collapsed": false,
    "pycharm": {
     "name": "#%%\n"
    }
   }
  },
  {
   "cell_type": "code",
   "execution_count": 69,
   "outputs": [],
   "source": [
    "df_reviews['Vader Prediction'] = df_reviews['cleaned_review_text'].apply(pred_vader)"
   ],
   "metadata": {
    "collapsed": false,
    "pycharm": {
     "name": "#%%\n"
    }
   }
  },
  {
   "cell_type": "code",
   "execution_count": 70,
   "outputs": [
    {
     "data": {
      "text/plain": "                          review_id  \\\n0  dfdbb7b0eb5a7e4c26d59a937e2e5feb   \n1  a5d2c3628987712d0e05c4f90798eb67   \n2  2ede853b14dc4583f96cf5d120af636f   \n3  ced5675e55cd9d38a524743f5c40996e   \n4  332732725863131279a8e345b63ac33e   \n\n                                 cleaned_review_text  rating  Vader Prediction  \n0  special book start slow first third middl thir...       5            0.9776  \n1                   recommend katz avail free decemb       3            0.7003  \n2  fun fast pace scienc fiction thriller read nig...       3            0.3142  \n3  recommend read understand go middl america pos...       0            0.6597  \n4  realli enjoy book lot recommend drag littl end...       4            0.9916  ",
      "text/html": "<div>\n<style scoped>\n    .dataframe tbody tr th:only-of-type {\n        vertical-align: middle;\n    }\n\n    .dataframe tbody tr th {\n        vertical-align: top;\n    }\n\n    .dataframe thead th {\n        text-align: right;\n    }\n</style>\n<table border=\"1\" class=\"dataframe\">\n  <thead>\n    <tr style=\"text-align: right;\">\n      <th></th>\n      <th>review_id</th>\n      <th>cleaned_review_text</th>\n      <th>rating</th>\n      <th>Vader Prediction</th>\n    </tr>\n  </thead>\n  <tbody>\n    <tr>\n      <th>0</th>\n      <td>dfdbb7b0eb5a7e4c26d59a937e2e5feb</td>\n      <td>special book start slow first third middl thir...</td>\n      <td>5</td>\n      <td>0.9776</td>\n    </tr>\n    <tr>\n      <th>1</th>\n      <td>a5d2c3628987712d0e05c4f90798eb67</td>\n      <td>recommend katz avail free decemb</td>\n      <td>3</td>\n      <td>0.7003</td>\n    </tr>\n    <tr>\n      <th>2</th>\n      <td>2ede853b14dc4583f96cf5d120af636f</td>\n      <td>fun fast pace scienc fiction thriller read nig...</td>\n      <td>3</td>\n      <td>0.3142</td>\n    </tr>\n    <tr>\n      <th>3</th>\n      <td>ced5675e55cd9d38a524743f5c40996e</td>\n      <td>recommend read understand go middl america pos...</td>\n      <td>0</td>\n      <td>0.6597</td>\n    </tr>\n    <tr>\n      <th>4</th>\n      <td>332732725863131279a8e345b63ac33e</td>\n      <td>realli enjoy book lot recommend drag littl end...</td>\n      <td>4</td>\n      <td>0.9916</td>\n    </tr>\n  </tbody>\n</table>\n</div>"
     },
     "execution_count": 70,
     "metadata": {},
     "output_type": "execute_result"
    }
   ],
   "source": [
    "df_reviews.head()"
   ],
   "metadata": {
    "collapsed": false,
    "pycharm": {
     "name": "#%%\n"
    }
   }
  },
  {
   "cell_type": "code",
   "execution_count": 74,
   "outputs": [
    {
     "data": {
      "text/plain": "                          review_id  \\\n0  dfdbb7b0eb5a7e4c26d59a937e2e5feb   \n1  a5d2c3628987712d0e05c4f90798eb67   \n2  2ede853b14dc4583f96cf5d120af636f   \n3  ced5675e55cd9d38a524743f5c40996e   \n4  332732725863131279a8e345b63ac33e   \n\n                                 cleaned_review_text  rating Vader  \n0  special book start slow first third middl thir...       5     5  \n1                   recommend katz avail free decemb       3     5  \n2  fun fast pace scienc fiction thriller read nig...       3     3  \n3  recommend read understand go middl america pos...       0     4  \n4  realli enjoy book lot recommend drag littl end...       4     5  ",
      "text/html": "<div>\n<style scoped>\n    .dataframe tbody tr th:only-of-type {\n        vertical-align: middle;\n    }\n\n    .dataframe tbody tr th {\n        vertical-align: top;\n    }\n\n    .dataframe thead th {\n        text-align: right;\n    }\n</style>\n<table border=\"1\" class=\"dataframe\">\n  <thead>\n    <tr style=\"text-align: right;\">\n      <th></th>\n      <th>review_id</th>\n      <th>cleaned_review_text</th>\n      <th>rating</th>\n      <th>Vader</th>\n    </tr>\n  </thead>\n  <tbody>\n    <tr>\n      <th>0</th>\n      <td>dfdbb7b0eb5a7e4c26d59a937e2e5feb</td>\n      <td>special book start slow first third middl thir...</td>\n      <td>5</td>\n      <td>5</td>\n    </tr>\n    <tr>\n      <th>1</th>\n      <td>a5d2c3628987712d0e05c4f90798eb67</td>\n      <td>recommend katz avail free decemb</td>\n      <td>3</td>\n      <td>5</td>\n    </tr>\n    <tr>\n      <th>2</th>\n      <td>2ede853b14dc4583f96cf5d120af636f</td>\n      <td>fun fast pace scienc fiction thriller read nig...</td>\n      <td>3</td>\n      <td>3</td>\n    </tr>\n    <tr>\n      <th>3</th>\n      <td>ced5675e55cd9d38a524743f5c40996e</td>\n      <td>recommend read understand go middl america pos...</td>\n      <td>0</td>\n      <td>4</td>\n    </tr>\n    <tr>\n      <th>4</th>\n      <td>332732725863131279a8e345b63ac33e</td>\n      <td>realli enjoy book lot recommend drag littl end...</td>\n      <td>4</td>\n      <td>5</td>\n    </tr>\n  </tbody>\n</table>\n</div>"
     },
     "execution_count": 74,
     "metadata": {},
     "output_type": "execute_result"
    }
   ],
   "source": [
    "df_reviews['Vader'] = pd.cut(df_reviews['Vader Prediction'], bins=6, labels=[0, 1, 2, 3, 4, 5])\n",
    "df_reviews = df_reviews.drop('Vader Prediction', axis=1)\n",
    "df_reviews.head()"
   ],
   "metadata": {
    "collapsed": false,
    "pycharm": {
     "name": "#%%\n"
    }
   }
  },
  {
   "cell_type": "code",
   "execution_count": 121,
   "outputs": [
    {
     "data": {
      "text/plain": "       Accuracy       MSE\nVader  0.261228  3.610894",
      "text/html": "<div>\n<style scoped>\n    .dataframe tbody tr th:only-of-type {\n        vertical-align: middle;\n    }\n\n    .dataframe tbody tr th {\n        vertical-align: top;\n    }\n\n    .dataframe thead th {\n        text-align: right;\n    }\n</style>\n<table border=\"1\" class=\"dataframe\">\n  <thead>\n    <tr style=\"text-align: right;\">\n      <th></th>\n      <th>Accuracy</th>\n      <th>MSE</th>\n    </tr>\n  </thead>\n  <tbody>\n    <tr>\n      <th>Vader</th>\n      <td>0.261228</td>\n      <td>3.610894</td>\n    </tr>\n  </tbody>\n</table>\n</div>"
     },
     "execution_count": 121,
     "metadata": {},
     "output_type": "execute_result"
    }
   ],
   "source": [
    "acc = accuracy_score(y_true=df_reviews['rating'], y_pred=df_reviews['Vader'])\n",
    "mse = mean_squared_error(y_true=df_reviews['rating'], y_pred=df_reviews['Vader'])\n",
    "\n",
    "results = pd.DataFrame(index = ['Vader'],\n",
    "                       data = {'Accuracy': acc,\n",
    "                               'MSE': mse\n",
    "                               })\n",
    "results"
   ],
   "metadata": {
    "collapsed": false,
    "pycharm": {
     "name": "#%%\n"
    }
   }
  },
  {
   "cell_type": "markdown",
   "source": [
    "## 2. Fine-grained Sentiment Analysis using textblob"
   ],
   "metadata": {
    "collapsed": false,
    "pycharm": {
     "name": "#%% md\n"
    }
   }
  },
  {
   "cell_type": "code",
   "execution_count": 110,
   "outputs": [],
   "source": [
    "from textblob import TextBlob\n",
    "from sklearn.utils import shuffle\n",
    "from sklearn.model_selection import train_test_split"
   ],
   "metadata": {
    "collapsed": false,
    "pycharm": {
     "name": "#%%\n"
    }
   }
  },
  {
   "cell_type": "code",
   "execution_count": 111,
   "outputs": [],
   "source": [
    "train_df, test_df = train_test_split(df_reviews, test_size=0.2, random_state=25)"
   ],
   "metadata": {
    "collapsed": false,
    "pycharm": {
     "name": "#%%\n"
    }
   }
  },
  {
   "cell_type": "code",
   "execution_count": 112,
   "outputs": [
    {
     "name": "stdout",
     "output_type": "stream",
     "text": [
      "No. of training examples: 719848\n",
      "No. of testing examples: 179963\n"
     ]
    }
   ],
   "source": [
    "print(f\"No. of training examples: {train_df.shape[0]}\")\n",
    "print(f\"No. of testing examples: {test_df.shape[0]}\")"
   ],
   "metadata": {
    "collapsed": false,
    "pycharm": {
     "name": "#%%\n"
    }
   }
  },
  {
   "cell_type": "code",
   "execution_count": 113,
   "outputs": [
    {
     "data": {
      "text/plain": "Text(0, 0.5, 'Label')"
     },
     "execution_count": 113,
     "metadata": {},
     "output_type": "execute_result"
    },
    {
     "data": {
      "text/plain": "<Figure size 640x480 with 1 Axes>",
      "image/png": "[encoded data removed]"
     },
     "metadata": {},
     "output_type": "display_data"
    }
   ],
   "source": [
    "ax = train_df['rating'].value_counts(sort=False).plot(kind='barh')\n",
    "ax.set_xlabel('Samples in training set')\n",
    "ax.set_ylabel('Label')"
   ],
   "metadata": {
    "collapsed": false,
    "pycharm": {
     "name": "#%%\n"
    }
   }
  },
  {
   "cell_type": "code",
   "execution_count": 114,
   "outputs": [
    {
     "name": "stdout",
     "output_type": "stream",
     "text": [
      "Number of 0-rated reviews: 24588\n",
      "Number of 1-rated reviews: 23024\n",
      "Number of 2-rated reviews: 58107\n",
      "Number of 3-rated reviews: 151157\n",
      "Number of 4-rated reviews: 250938\n",
      "Number of 5-rated reviews: 212034\n"
     ]
    }
   ],
   "source": [
    "for i in range(6):\n",
    "    print('Number of %d-rated reviews: %s' %(i, len(train_df[train_df['rating'] == i])))\n"
   ],
   "metadata": {
    "collapsed": false,
    "pycharm": {
     "name": "#%%\n"
    }
   }
  },
  {
   "cell_type": "code",
   "execution_count": 115,
   "outputs": [],
   "source": [
    "final_train_df = pd.DataFrame()\n",
    "for i in range(6):\n",
    "    temp_df = train_df[train_df['rating'] == i].iloc[:23000]\n",
    "    final_train_df = pd.concat([final_train_df, temp_df])\n",
    "\n",
    "final_train_df = shuffle(final_train_df)"
   ],
   "metadata": {
    "collapsed": false,
    "pycharm": {
     "name": "#%%\n"
    }
   }
  },
  {
   "cell_type": "code",
   "execution_count": 116,
   "outputs": [
    {
     "name": "stdout",
     "output_type": "stream",
     "text": [
      "719848\n",
      "138000\n"
     ]
    }
   ],
   "source": [
    "print(len(train_df))\n",
    "print(len(final_train_df))"
   ],
   "metadata": {
    "collapsed": false,
    "pycharm": {
     "name": "#%%\n"
    }
   }
  },
  {
   "cell_type": "code",
   "execution_count": 117,
   "outputs": [
    {
     "data": {
      "text/plain": "Text(0, 0.5, 'Label')"
     },
     "execution_count": 117,
     "metadata": {},
     "output_type": "execute_result"
    },
    {
     "data": {
      "text/plain": "<Figure size 640x480 with 1 Axes>",
      "image/png": "[encoded data removed]"
     },
     "metadata": {},
     "output_type": "display_data"
    }
   ],
   "source": [
    "ax = final_train_df['rating'].value_counts(sort=False).plot(kind='barh')\n",
    "ax.set_xlabel('Samples in training set')\n",
    "ax.set_ylabel('Label')"
   ],
   "metadata": {
    "collapsed": false,
    "pycharm": {
     "name": "#%%\n"
    }
   }
  },
  {
   "cell_type": "code",
   "execution_count": 118,
   "outputs": [],
   "source": [
    "def score(review_text: str) -> float:\n",
    "        return TextBlob(review_text).sentiment.polarity"
   ],
   "metadata": {
    "collapsed": false,
    "pycharm": {
     "name": "#%%\n"
    }
   }
  },
  {
   "cell_type": "code",
   "execution_count": 119,
   "outputs": [
    {
     "data": {
      "text/plain": "                               review_id  \\\n518891  b75f47c576a05152dbb694a256973619   \n724501  26057419d06b443d61e320a2e797b388   \n459618  3784649f5f48fa10dacf38d162b47203   \n183733  c1977ece675735da9ae4ece354f54d7d   \n384840  e99f511bbf7e60605b57ae2fc58616a5   \n\n                                      cleaned_review_text  rating Vader  \\\n518891  solid star not natur vs nurtur make good fathe...       4     1   \n724501  simpli beauti write not typic fairi tale zoe m...       4     4   \n459618  one best book read long long time look book sp...       5     5   \n183733  view spoilerhow interest practic event provok ...       0     5   \n384840  lynni young white girl place famili home feebl...       4     2   \n\n        TextBlob Prediction  \n518891             0.218182  \n724501             0.000000  \n459618             0.111111  \n183733             0.228704  \n384840             0.100253  ",
      "text/html": "<div>\n<style scoped>\n    .dataframe tbody tr th:only-of-type {\n        vertical-align: middle;\n    }\n\n    .dataframe tbody tr th {\n        vertical-align: top;\n    }\n\n    .dataframe thead th {\n        text-align: right;\n    }\n</style>\n<table border=\"1\" class=\"dataframe\">\n  <thead>\n    <tr style=\"text-align: right;\">\n      <th></th>\n      <th>review_id</th>\n      <th>cleaned_review_text</th>\n      <th>rating</th>\n      <th>Vader</th>\n      <th>TextBlob Prediction</th>\n    </tr>\n  </thead>\n  <tbody>\n    <tr>\n      <th>518891</th>\n      <td>b75f47c576a05152dbb694a256973619</td>\n      <td>solid star not natur vs nurtur make good fathe...</td>\n      <td>4</td>\n      <td>1</td>\n      <td>0.218182</td>\n    </tr>\n    <tr>\n      <th>724501</th>\n      <td>26057419d06b443d61e320a2e797b388</td>\n      <td>simpli beauti write not typic fairi tale zoe m...</td>\n      <td>4</td>\n      <td>4</td>\n      <td>0.000000</td>\n    </tr>\n    <tr>\n      <th>459618</th>\n      <td>3784649f5f48fa10dacf38d162b47203</td>\n      <td>one best book read long long time look book sp...</td>\n      <td>5</td>\n      <td>5</td>\n      <td>0.111111</td>\n    </tr>\n    <tr>\n      <th>183733</th>\n      <td>c1977ece675735da9ae4ece354f54d7d</td>\n      <td>view spoilerhow interest practic event provok ...</td>\n      <td>0</td>\n      <td>5</td>\n      <td>0.228704</td>\n    </tr>\n    <tr>\n      <th>384840</th>\n      <td>e99f511bbf7e60605b57ae2fc58616a5</td>\n      <td>lynni young white girl place famili home feebl...</td>\n      <td>4</td>\n      <td>2</td>\n      <td>0.100253</td>\n    </tr>\n  </tbody>\n</table>\n</div>"
     },
     "execution_count": 119,
     "metadata": {},
     "output_type": "execute_result"
    }
   ],
   "source": [
    "final_train_df['TextBlob Prediction'] = final_train_df['cleaned_review_text'].apply(score)\n",
    "final_train_df.head()"
   ],
   "metadata": {
    "collapsed": false,
    "pycharm": {
     "name": "#%%\n"
    }
   }
  },
  {
   "cell_type": "code",
   "execution_count": 120,
   "outputs": [
    {
     "data": {
      "text/plain": "                               review_id  \\\n518891  b75f47c576a05152dbb694a256973619   \n724501  26057419d06b443d61e320a2e797b388   \n459618  3784649f5f48fa10dacf38d162b47203   \n183733  c1977ece675735da9ae4ece354f54d7d   \n384840  e99f511bbf7e60605b57ae2fc58616a5   \n\n                                      cleaned_review_text  rating Vader  \\\n518891  solid star not natur vs nurtur make good fathe...       4     1   \n724501  simpli beauti write not typic fairi tale zoe m...       4     4   \n459618  one best book read long long time look book sp...       5     5   \n183733  view spoilerhow interest practic event provok ...       0     5   \n384840  lynni young white girl place famili home feebl...       4     2   \n\n       TextBlob  \n518891        3  \n724501        2  \n459618        3  \n183733        3  \n384840        3  ",
      "text/html": "<div>\n<style scoped>\n    .dataframe tbody tr th:only-of-type {\n        vertical-align: middle;\n    }\n\n    .dataframe tbody tr th {\n        vertical-align: top;\n    }\n\n    .dataframe thead th {\n        text-align: right;\n    }\n</style>\n<table border=\"1\" class=\"dataframe\">\n  <thead>\n    <tr style=\"text-align: right;\">\n      <th></th>\n      <th>review_id</th>\n      <th>cleaned_review_text</th>\n      <th>rating</th>\n      <th>Vader</th>\n      <th>TextBlob</th>\n    </tr>\n  </thead>\n  <tbody>\n    <tr>\n      <th>518891</th>\n      <td>b75f47c576a05152dbb694a256973619</td>\n      <td>solid star not natur vs nurtur make good fathe...</td>\n      <td>4</td>\n      <td>1</td>\n      <td>3</td>\n    </tr>\n    <tr>\n      <th>724501</th>\n      <td>26057419d06b443d61e320a2e797b388</td>\n      <td>simpli beauti write not typic fairi tale zoe m...</td>\n      <td>4</td>\n      <td>4</td>\n      <td>2</td>\n    </tr>\n    <tr>\n      <th>459618</th>\n      <td>3784649f5f48fa10dacf38d162b47203</td>\n      <td>one best book read long long time look book sp...</td>\n      <td>5</td>\n      <td>5</td>\n      <td>3</td>\n    </tr>\n    <tr>\n      <th>183733</th>\n      <td>c1977ece675735da9ae4ece354f54d7d</td>\n      <td>view spoilerhow interest practic event provok ...</td>\n      <td>0</td>\n      <td>5</td>\n      <td>3</td>\n    </tr>\n    <tr>\n      <th>384840</th>\n      <td>e99f511bbf7e60605b57ae2fc58616a5</td>\n      <td>lynni young white girl place famili home feebl...</td>\n      <td>4</td>\n      <td>2</td>\n      <td>3</td>\n    </tr>\n  </tbody>\n</table>\n</div>"
     },
     "execution_count": 120,
     "metadata": {},
     "output_type": "execute_result"
    }
   ],
   "source": [
    "# Convert float score to category based on binning\n",
    "final_train_df['TextBlob'] = pd.cut(final_train_df['TextBlob Prediction'], bins=6, labels=[0, 1, 2, 3, 4, 5])\n",
    "final_train_df = final_train_df.drop('TextBlob Prediction', axis=1)\n",
    "final_train_df.head()"
   ],
   "metadata": {
    "collapsed": false,
    "pycharm": {
     "name": "#%%\n"
    }
   }
  },
  {
   "cell_type": "code",
   "execution_count": 134,
   "outputs": [
    {
     "data": {
      "text/plain": "          Accuracy       MSE\nVader     0.261228  3.610894\nTextBlob  0.192986  2.967029",
      "text/html": "<div>\n<style scoped>\n    .dataframe tbody tr th:only-of-type {\n        vertical-align: middle;\n    }\n\n    .dataframe tbody tr th {\n        vertical-align: top;\n    }\n\n    .dataframe thead th {\n        text-align: right;\n    }\n</style>\n<table border=\"1\" class=\"dataframe\">\n  <thead>\n    <tr style=\"text-align: right;\">\n      <th></th>\n      <th>Accuracy</th>\n      <th>MSE</th>\n    </tr>\n  </thead>\n  <tbody>\n    <tr>\n      <th>Vader</th>\n      <td>0.261228</td>\n      <td>3.610894</td>\n    </tr>\n    <tr>\n      <th>TextBlob</th>\n      <td>0.192986</td>\n      <td>2.967029</td>\n    </tr>\n  </tbody>\n</table>\n</div>"
     },
     "execution_count": 134,
     "metadata": {},
     "output_type": "execute_result"
    }
   ],
   "source": [
    "acc = accuracy_score(y_true=final_train_df['rating'], y_pred=final_train_df['TextBlob'])\n",
    "mse = mean_squared_error(y_true=final_train_df['rating'], y_pred=final_train_df['TextBlob'])\n",
    "\n",
    "results.loc['TextBlob'] = [acc, mse]\n",
    "results"
   ],
   "metadata": {
    "collapsed": false,
    "pycharm": {
     "name": "#%%\n"
    }
   }
  },
  {
   "cell_type": "markdown",
   "source": [
    "## Using TF-IDF and SVM or Logistic Regression"
   ],
   "metadata": {
    "collapsed": false,
    "pycharm": {
     "name": "#%% md\n"
    }
   }
  },
  {
   "cell_type": "markdown",
   "source": [
    "TF-IDF is an abbreviation for Term Frequency Inverse Document Frequency. This is very common algorithm to transform text into a meaningful representation of numbers which is used to fit machine algorithm for prediction.\n",
    "\n",
    "Help : https://medium.com/analytics-vidhya/sentiment-analysis-on-amazon-reviews-using-tf-idf-approach-c5ab4c36e7a1"
   ],
   "metadata": {
    "collapsed": false,
    "pycharm": {
     "name": "#%% md\n"
    }
   }
  },
  {
   "cell_type": "code",
   "execution_count": 151,
   "outputs": [],
   "source": [
    "from time import time\n",
    "from pprint import pprint\n",
    "from os.path import exists\n",
    "from sklearn.svm import LinearSVC\n",
    "from sklearn.pipeline import Pipeline\n",
    "from sklearn.model_selection import GridSearchCV\n",
    "from sklearn.metrics import classification_report\n",
    "from sklearn.linear_model import LogisticRegression\n",
    "from sklearn.feature_extraction.text import TfidfVectorizer"
   ],
   "metadata": {
    "collapsed": false,
    "pycharm": {
     "name": "#%%\n"
    }
   }
  },
  {
   "cell_type": "code",
   "execution_count": 150,
   "outputs": [],
   "source": [
    "VECTORIZER_PATH = 'data/vectorizer.sav'"
   ],
   "metadata": {
    "collapsed": false,
    "pycharm": {
     "name": "#%%\n"
    }
   }
  },
  {
   "cell_type": "code",
   "execution_count": 143,
   "outputs": [
    {
     "name": "stdout",
     "output_type": "stream",
     "text": [
      "There are 148198 different words along all the reviews.\n"
     ]
    }
   ],
   "source": [
    "# Create a set of unique word along all the 50k reviews\n",
    "unique_words = set([])\n",
    "\n",
    "for review in final_train_df['cleaned_review_text']:\n",
    "    split = review.split()\n",
    "    for word in split:\n",
    "        unique_words.add(word)\n",
    "\n",
    "print('There are %s different words along all the reviews.' %len(unique_words))"
   ],
   "metadata": {
    "collapsed": false,
    "pycharm": {
     "name": "#%%\n"
    }
   }
  },
  {
   "cell_type": "code",
   "execution_count": 142,
   "outputs": [
    {
     "name": "stdout",
     "output_type": "stream",
     "text": [
      "(138000,)\n",
      "(138000,)\n"
     ]
    }
   ],
   "source": [
    "X_train = final_train_df['cleaned_review_text']\n",
    "Y_train = final_train_df['rating'].astype(str)\n",
    "\n",
    "print(X_train.shape)\n",
    "print(Y_train.shape)"
   ],
   "metadata": {
    "collapsed": false,
    "pycharm": {
     "name": "#%%\n"
    }
   }
  },
  {
   "cell_type": "code",
   "execution_count": 152,
   "outputs": [
    {
     "name": "stdout",
     "output_type": "stream",
     "text": [
      "(179963,)\n",
      "(179963,)\n"
     ]
    }
   ],
   "source": [
    "X_test = test_df['cleaned_review_text']\n",
    "Y_test = test_df['rating'].astype(str)\n",
    "\n",
    "print(X_test.shape)\n",
    "print(Y_test.shape)"
   ],
   "metadata": {
    "collapsed": false,
    "pycharm": {
     "name": "#%%\n"
    }
   }
  },
  {
   "cell_type": "code",
   "execution_count": 228,
   "outputs": [],
   "source": [
    "vectorizer= TfidfVectorizer()"
   ],
   "metadata": {
    "collapsed": false,
    "pycharm": {
     "name": "#%%\n"
    }
   }
  },
  {
   "cell_type": "code",
   "execution_count": 166,
   "outputs": [
    {
     "name": "stdout",
     "output_type": "stream",
     "text": [
      "Performing grid search...\n",
      "Pipeline:  ['tfidf']\n",
      "Parameters: \n",
      "{'tfidf__max_features': [None, 133378, 111148, 74099],\n",
      " 'tfidf__min_df': [1, 2, 3],\n",
      " 'tfidf__ngram_range': [(1, 1), (1, 2), (2, 2)],\n",
      " 'tfidf__norm': ['l1', 'l2'],\n",
      " 'tfidf__preprocessor': ['callable', 'None'],\n",
      " 'tfidf__smooth_idf': [True, False],\n",
      " 'tfidf__sublinear_tf': [True, False],\n",
      " 'tfidf__tokenizer': ['callable', 'None'],\n",
      " 'tfidf__use_idf': [True, False]}\n",
      "Fitting 5 folds for each of 2304 candidates, totalling 11520 fits\n"
     ]
    },
    {
     "ename": "ValueError",
     "evalue": "\nAll the 11520 fits failed.\nIt is very likely that your model is misconfigured.\nYou can try to debug the error by setting error_score='raise'.\n\nBelow are more details about the failures:\n--------------------------------------------------------------------------------\n11520 fits failed with the following error:\nTraceback (most recent call last):\n  File \"D:\\Documentos\\ESGI\\4e_Annee\\Deep_Learning\\Projet\\.venv\\lib\\site-packages\\sklearn\\model_selection\\_validation.py\", line 686, in _fit_and_score\n    estimator.fit(X_train, y_train, **fit_params)\n  File \"D:\\Documentos\\ESGI\\4e_Annee\\Deep_Learning\\Projet\\.venv\\lib\\site-packages\\sklearn\\pipeline.py\", line 382, in fit\n    self._final_estimator.fit(Xt, y, **fit_params_last_step)\n  File \"D:\\Documentos\\ESGI\\4e_Annee\\Deep_Learning\\Projet\\.venv\\lib\\site-packages\\sklearn\\feature_extraction\\text.py\", line 2049, in fit\n    X = super().fit_transform(raw_documents)\n  File \"D:\\Documentos\\ESGI\\4e_Annee\\Deep_Learning\\Projet\\.venv\\lib\\site-packages\\sklearn\\feature_extraction\\text.py\", line 1338, in fit_transform\n    vocabulary, X = self._count_vocab(raw_documents, self.fixed_vocabulary_)\n  File \"D:\\Documentos\\ESGI\\4e_Annee\\Deep_Learning\\Projet\\.venv\\lib\\site-packages\\sklearn\\feature_extraction\\text.py\", line 1209, in _count_vocab\n    for feature in analyze(doc):\n  File \"D:\\Documentos\\ESGI\\4e_Annee\\Deep_Learning\\Projet\\.venv\\lib\\site-packages\\sklearn\\feature_extraction\\text.py\", line 111, in _analyze\n    doc = preprocessor(doc)\nTypeError: 'str' object is not callable\n",
     "output_type": "error",
     "traceback": [
      "\u001B[1;31m---------------------------------------------------------------------------\u001B[0m",
      "\u001B[1;31mValueError\u001B[0m                                Traceback (most recent call last)",
      "Cell \u001B[1;32mIn [166], line 53\u001B[0m\n\u001B[0;32m     51\u001B[0m pprint(parameters)\n\u001B[0;32m     52\u001B[0m t0 \u001B[38;5;241m=\u001B[39m time()\n\u001B[1;32m---> 53\u001B[0m vectorizer \u001B[38;5;241m=\u001B[39m \u001B[43mgrid_search\u001B[49m\u001B[38;5;241;43m.\u001B[39;49m\u001B[43mfit\u001B[49m\u001B[43m(\u001B[49m\u001B[38;5;28;43mlist\u001B[39;49m\u001B[43m(\u001B[49m\u001B[43mX_train\u001B[49m\u001B[43m)\u001B[49m\u001B[43m,\u001B[49m\u001B[43m \u001B[49m\u001B[38;5;28;43mlist\u001B[39;49m\u001B[43m(\u001B[49m\u001B[43mY_train\u001B[49m\u001B[43m)\u001B[49m\u001B[43m)\u001B[49m\n\u001B[0;32m     54\u001B[0m \u001B[38;5;28mprint\u001B[39m(\u001B[38;5;124m'\u001B[39m\u001B[38;5;124mDone in \u001B[39m\u001B[38;5;132;01m%0.3f\u001B[39;00m\u001B[38;5;124ms\u001B[39m\u001B[38;5;124m'\u001B[39m \u001B[38;5;241m%\u001B[39m (time() \u001B[38;5;241m-\u001B[39m t0))\n\u001B[0;32m     55\u001B[0m \u001B[38;5;28mprint\u001B[39m()\n",
      "File \u001B[1;32mD:\\Documentos\\ESGI\\4e_Annee\\Deep_Learning\\Projet\\.venv\\lib\\site-packages\\sklearn\\model_selection\\_search.py:875\u001B[0m, in \u001B[0;36mBaseSearchCV.fit\u001B[1;34m(self, X, y, groups, **fit_params)\u001B[0m\n\u001B[0;32m    869\u001B[0m     results \u001B[38;5;241m=\u001B[39m \u001B[38;5;28mself\u001B[39m\u001B[38;5;241m.\u001B[39m_format_results(\n\u001B[0;32m    870\u001B[0m         all_candidate_params, n_splits, all_out, all_more_results\n\u001B[0;32m    871\u001B[0m     )\n\u001B[0;32m    873\u001B[0m     \u001B[38;5;28;01mreturn\u001B[39;00m results\n\u001B[1;32m--> 875\u001B[0m \u001B[38;5;28;43mself\u001B[39;49m\u001B[38;5;241;43m.\u001B[39;49m\u001B[43m_run_search\u001B[49m\u001B[43m(\u001B[49m\u001B[43mevaluate_candidates\u001B[49m\u001B[43m)\u001B[49m\n\u001B[0;32m    877\u001B[0m \u001B[38;5;66;03m# multimetric is determined here because in the case of a callable\u001B[39;00m\n\u001B[0;32m    878\u001B[0m \u001B[38;5;66;03m# self.scoring the return type is only known after calling\u001B[39;00m\n\u001B[0;32m    879\u001B[0m first_test_score \u001B[38;5;241m=\u001B[39m all_out[\u001B[38;5;241m0\u001B[39m][\u001B[38;5;124m\"\u001B[39m\u001B[38;5;124mtest_scores\u001B[39m\u001B[38;5;124m\"\u001B[39m]\n",
      "File \u001B[1;32mD:\\Documentos\\ESGI\\4e_Annee\\Deep_Learning\\Projet\\.venv\\lib\\site-packages\\sklearn\\model_selection\\_search.py:1379\u001B[0m, in \u001B[0;36mGridSearchCV._run_search\u001B[1;34m(self, evaluate_candidates)\u001B[0m\n\u001B[0;32m   1377\u001B[0m \u001B[38;5;28;01mdef\u001B[39;00m \u001B[38;5;21m_run_search\u001B[39m(\u001B[38;5;28mself\u001B[39m, evaluate_candidates):\n\u001B[0;32m   1378\u001B[0m     \u001B[38;5;124;03m\"\"\"Search all candidates in param_grid\"\"\"\u001B[39;00m\n\u001B[1;32m-> 1379\u001B[0m     \u001B[43mevaluate_candidates\u001B[49m\u001B[43m(\u001B[49m\u001B[43mParameterGrid\u001B[49m\u001B[43m(\u001B[49m\u001B[38;5;28;43mself\u001B[39;49m\u001B[38;5;241;43m.\u001B[39;49m\u001B[43mparam_grid\u001B[49m\u001B[43m)\u001B[49m\u001B[43m)\u001B[49m\n",
      "File \u001B[1;32mD:\\Documentos\\ESGI\\4e_Annee\\Deep_Learning\\Projet\\.venv\\lib\\site-packages\\sklearn\\model_selection\\_search.py:852\u001B[0m, in \u001B[0;36mBaseSearchCV.fit.<locals>.evaluate_candidates\u001B[1;34m(candidate_params, cv, more_results)\u001B[0m\n\u001B[0;32m    845\u001B[0m \u001B[38;5;28;01melif\u001B[39;00m \u001B[38;5;28mlen\u001B[39m(out) \u001B[38;5;241m!=\u001B[39m n_candidates \u001B[38;5;241m*\u001B[39m n_splits:\n\u001B[0;32m    846\u001B[0m     \u001B[38;5;28;01mraise\u001B[39;00m \u001B[38;5;167;01mValueError\u001B[39;00m(\n\u001B[0;32m    847\u001B[0m         \u001B[38;5;124m\"\u001B[39m\u001B[38;5;124mcv.split and cv.get_n_splits returned \u001B[39m\u001B[38;5;124m\"\u001B[39m\n\u001B[0;32m    848\u001B[0m         \u001B[38;5;124m\"\u001B[39m\u001B[38;5;124minconsistent results. Expected \u001B[39m\u001B[38;5;132;01m{}\u001B[39;00m\u001B[38;5;124m \u001B[39m\u001B[38;5;124m\"\u001B[39m\n\u001B[0;32m    849\u001B[0m         \u001B[38;5;124m\"\u001B[39m\u001B[38;5;124msplits, got \u001B[39m\u001B[38;5;132;01m{}\u001B[39;00m\u001B[38;5;124m\"\u001B[39m\u001B[38;5;241m.\u001B[39mformat(n_splits, \u001B[38;5;28mlen\u001B[39m(out) \u001B[38;5;241m/\u001B[39m\u001B[38;5;241m/\u001B[39m n_candidates)\n\u001B[0;32m    850\u001B[0m     )\n\u001B[1;32m--> 852\u001B[0m \u001B[43m_warn_or_raise_about_fit_failures\u001B[49m\u001B[43m(\u001B[49m\u001B[43mout\u001B[49m\u001B[43m,\u001B[49m\u001B[43m \u001B[49m\u001B[38;5;28;43mself\u001B[39;49m\u001B[38;5;241;43m.\u001B[39;49m\u001B[43merror_score\u001B[49m\u001B[43m)\u001B[49m\n\u001B[0;32m    854\u001B[0m \u001B[38;5;66;03m# For callable self.scoring, the return type is only know after\u001B[39;00m\n\u001B[0;32m    855\u001B[0m \u001B[38;5;66;03m# calling. If the return type is a dictionary, the error scores\u001B[39;00m\n\u001B[0;32m    856\u001B[0m \u001B[38;5;66;03m# can now be inserted with the correct key. The type checking\u001B[39;00m\n\u001B[0;32m    857\u001B[0m \u001B[38;5;66;03m# of out will be done in `_insert_error_scores`.\u001B[39;00m\n\u001B[0;32m    858\u001B[0m \u001B[38;5;28;01mif\u001B[39;00m callable(\u001B[38;5;28mself\u001B[39m\u001B[38;5;241m.\u001B[39mscoring):\n",
      "File \u001B[1;32mD:\\Documentos\\ESGI\\4e_Annee\\Deep_Learning\\Projet\\.venv\\lib\\site-packages\\sklearn\\model_selection\\_validation.py:367\u001B[0m, in \u001B[0;36m_warn_or_raise_about_fit_failures\u001B[1;34m(results, error_score)\u001B[0m\n\u001B[0;32m    360\u001B[0m \u001B[38;5;28;01mif\u001B[39;00m num_failed_fits \u001B[38;5;241m==\u001B[39m num_fits:\n\u001B[0;32m    361\u001B[0m     all_fits_failed_message \u001B[38;5;241m=\u001B[39m (\n\u001B[0;32m    362\u001B[0m         \u001B[38;5;124mf\u001B[39m\u001B[38;5;124m\"\u001B[39m\u001B[38;5;130;01m\\n\u001B[39;00m\u001B[38;5;124mAll the \u001B[39m\u001B[38;5;132;01m{\u001B[39;00mnum_fits\u001B[38;5;132;01m}\u001B[39;00m\u001B[38;5;124m fits failed.\u001B[39m\u001B[38;5;130;01m\\n\u001B[39;00m\u001B[38;5;124m\"\u001B[39m\n\u001B[0;32m    363\u001B[0m         \u001B[38;5;124m\"\u001B[39m\u001B[38;5;124mIt is very likely that your model is misconfigured.\u001B[39m\u001B[38;5;130;01m\\n\u001B[39;00m\u001B[38;5;124m\"\u001B[39m\n\u001B[0;32m    364\u001B[0m         \u001B[38;5;124m\"\u001B[39m\u001B[38;5;124mYou can try to debug the error by setting error_score=\u001B[39m\u001B[38;5;124m'\u001B[39m\u001B[38;5;124mraise\u001B[39m\u001B[38;5;124m'\u001B[39m\u001B[38;5;124m.\u001B[39m\u001B[38;5;130;01m\\n\u001B[39;00m\u001B[38;5;130;01m\\n\u001B[39;00m\u001B[38;5;124m\"\u001B[39m\n\u001B[0;32m    365\u001B[0m         \u001B[38;5;124mf\u001B[39m\u001B[38;5;124m\"\u001B[39m\u001B[38;5;124mBelow are more details about the failures:\u001B[39m\u001B[38;5;130;01m\\n\u001B[39;00m\u001B[38;5;132;01m{\u001B[39;00mfit_errors_summary\u001B[38;5;132;01m}\u001B[39;00m\u001B[38;5;124m\"\u001B[39m\n\u001B[0;32m    366\u001B[0m     )\n\u001B[1;32m--> 367\u001B[0m     \u001B[38;5;28;01mraise\u001B[39;00m \u001B[38;5;167;01mValueError\u001B[39;00m(all_fits_failed_message)\n\u001B[0;32m    369\u001B[0m \u001B[38;5;28;01melse\u001B[39;00m:\n\u001B[0;32m    370\u001B[0m     some_fits_failed_message \u001B[38;5;241m=\u001B[39m (\n\u001B[0;32m    371\u001B[0m         \u001B[38;5;124mf\u001B[39m\u001B[38;5;124m\"\u001B[39m\u001B[38;5;130;01m\\n\u001B[39;00m\u001B[38;5;132;01m{\u001B[39;00mnum_failed_fits\u001B[38;5;132;01m}\u001B[39;00m\u001B[38;5;124m fits failed out of a total of \u001B[39m\u001B[38;5;132;01m{\u001B[39;00mnum_fits\u001B[38;5;132;01m}\u001B[39;00m\u001B[38;5;124m.\u001B[39m\u001B[38;5;130;01m\\n\u001B[39;00m\u001B[38;5;124m\"\u001B[39m\n\u001B[0;32m    372\u001B[0m         \u001B[38;5;124m\"\u001B[39m\u001B[38;5;124mThe score on these train-test partitions for these parameters\u001B[39m\u001B[38;5;124m\"\u001B[39m\n\u001B[1;32m   (...)\u001B[0m\n\u001B[0;32m    376\u001B[0m         \u001B[38;5;124mf\u001B[39m\u001B[38;5;124m\"\u001B[39m\u001B[38;5;124mBelow are more details about the failures:\u001B[39m\u001B[38;5;130;01m\\n\u001B[39;00m\u001B[38;5;132;01m{\u001B[39;00mfit_errors_summary\u001B[38;5;132;01m}\u001B[39;00m\u001B[38;5;124m\"\u001B[39m\n\u001B[0;32m    377\u001B[0m     )\n",
      "\u001B[1;31mValueError\u001B[0m: \nAll the 11520 fits failed.\nIt is very likely that your model is misconfigured.\nYou can try to debug the error by setting error_score='raise'.\n\nBelow are more details about the failures:\n--------------------------------------------------------------------------------\n11520 fits failed with the following error:\nTraceback (most recent call last):\n  File \"D:\\Documentos\\ESGI\\4e_Annee\\Deep_Learning\\Projet\\.venv\\lib\\site-packages\\sklearn\\model_selection\\_validation.py\", line 686, in _fit_and_score\n    estimator.fit(X_train, y_train, **fit_params)\n  File \"D:\\Documentos\\ESGI\\4e_Annee\\Deep_Learning\\Projet\\.venv\\lib\\site-packages\\sklearn\\pipeline.py\", line 382, in fit\n    self._final_estimator.fit(Xt, y, **fit_params_last_step)\n  File \"D:\\Documentos\\ESGI\\4e_Annee\\Deep_Learning\\Projet\\.venv\\lib\\site-packages\\sklearn\\feature_extraction\\text.py\", line 2049, in fit\n    X = super().fit_transform(raw_documents)\n  File \"D:\\Documentos\\ESGI\\4e_Annee\\Deep_Learning\\Projet\\.venv\\lib\\site-packages\\sklearn\\feature_extraction\\text.py\", line 1338, in fit_transform\n    vocabulary, X = self._count_vocab(raw_documents, self.fixed_vocabulary_)\n  File \"D:\\Documentos\\ESGI\\4e_Annee\\Deep_Learning\\Projet\\.venv\\lib\\site-packages\\sklearn\\feature_extraction\\text.py\", line 1209, in _count_vocab\n    for feature in analyze(doc):\n  File \"D:\\Documentos\\ESGI\\4e_Annee\\Deep_Learning\\Projet\\.venv\\lib\\site-packages\\sklearn\\feature_extraction\\text.py\", line 111, in _analyze\n    doc = preprocessor(doc)\nTypeError: 'str' object is not callable\n"
     ]
    }
   ],
   "source": [
    "if exists(VECTORIZER_PATH):\n",
    "    vectorizer = pickle.load(open(VECTORIZER_PATH, 'rb'))\n",
    "    print(f'Model {VECTORIZER_PATH} opened successfully')\n",
    "\n",
    "else:\n",
    "    # Define a pipeline combining a text feature extractor with a MultinomialNB Classifier\n",
    "    pipeline = Pipeline(\n",
    "        [\n",
    "            ('tfidf', TfidfVectorizer())\n",
    "        ]\n",
    "    )\n",
    "\n",
    "    # Parameters to use for grid search\n",
    "    parameters = {\n",
    "        'tfidf__norm': ['l1', 'l2'],    # Each output row will have unit norm, either:\n",
    "                                        # l1: Sum of absolute values of vector elements is 1.\n",
    "                                        # l2: Sum of squares of vector elements is 1. In this case,\n",
    "                                        # the cosine similarity between two vectors is their dot product.\n",
    "\n",
    "        'tfidf__min_df' : [1, 2, 3],    # Ignore terms that have a document frequency strictly lower than the given threshold.\n",
    "\n",
    "        'tfidf__use_idf': [True, False],# Enable inverse-document-frequency re-weighting. If False, idf(t) = 1.\n",
    "\n",
    "        'tfidf__max_features': [None,\n",
    "                                int(len(unique_words)*0.9),\n",
    "                                int(len(unique_words)*0.75),\n",
    "                                int(len(unique_words)*0.5)],    # Size of the vocabulary based on percentage\n",
    "                                                                # of the quantity of unique words.\n",
    "\n",
    "        'tfidf__ngram_range': [(1, 1), (1, 2), (2, 2)],\n",
    "\n",
    "        'tfidf__smooth_idf': [True, False],             # Smooth idf weights by adding one to document frequencies,\n",
    "                                                        # as if an extra document was seen containing every term\n",
    "                                                        # in the collection exactly once. Prevents zero divisions.\n",
    "\n",
    "        'tfidf__preprocessor': ['callable', 'None'],    # Override the preprocessing (string transformation) stage\n",
    "                                                        # while preserving the tokenizing and n-grams generation steps.\n",
    "\n",
    "        'tfidf__sublinear_tf': [True, False],           # Apply sublinear tf scaling, i.e. replace tf with 1 + log(tf).\n",
    "\n",
    "        'tfidf__tokenizer': ['callable', 'None']        # Override the string tokenization step while preserving\n",
    "                                                        # the preprocessing and n-grams generation steps.\n",
    "    }\n",
    "\n",
    "    # Find the best parameters for both the feature extraction and the classifier\n",
    "    grid_search = GridSearchCV(pipeline, parameters, n_jobs=-1, verbose=1, scoring='accuracy')\n",
    "\n",
    "    print('Performing grid search...')\n",
    "    print('Pipeline: ', [name for name, _ in pipeline.steps])\n",
    "    print('Parameters: ')\n",
    "    pprint(parameters)\n",
    "    t0 = time()\n",
    "    vectorizer = grid_search.fit(list(X_train), list(Y_train))\n",
    "    print('Done in %0.3fs' % (time() - t0))\n",
    "    print()\n",
    "\n",
    "    print('Best score: %0.3f' % grid_search.best_score_)\n",
    "    print('Best parameters set: ')\n",
    "    best_parameters = grid_search.best_estimator_.get_params()\n",
    "    for param_name in sorted(parameters.keys()):\n",
    "        print('\\t%s: %r' % (param_name, best_parameters[param_name]))\n",
    "\n",
    "    pickle.dump(vectorizer, open(VECTORIZER_PATH, 'wb'))\n",
    "    print(f'Vectorizer {VECTORIZER_PATH} created successfully')\n",
    "\n",
    "tfidf = vectorizer.best_estimator_.named_steps['tfidf']"
   ],
   "metadata": {
    "collapsed": false,
    "pycharm": {
     "name": "#%%\n"
    }
   }
  },
  {
   "cell_type": "code",
   "execution_count": 229,
   "outputs": [],
   "source": [
    "tf_x_train = vectorizer.fit_transform(X_train)\n",
    "tf_x_test = vectorizer.transform(X_test)\n",
    "\n",
    "# We use fit_transform() on the train data so that we learn the parameters of scaling on the train data and in the same time we scale the train data. We only use transform() on the test data because we use the scaling parameters learned on the train data to scale the test data."
   ],
   "metadata": {
    "collapsed": false,
    "pycharm": {
     "name": "#%%\n"
    }
   }
  },
  {
   "cell_type": "markdown",
   "source": [
    "## SVM"
   ],
   "metadata": {
    "collapsed": false,
    "pycharm": {
     "name": "#%% md\n"
    }
   }
  },
  {
   "cell_type": "code",
   "execution_count": 230,
   "outputs": [
    {
     "data": {
      "text/plain": "{'0': {'precision': 0.16830048498606956,\n  'recall': 0.510644959298685,\n  'f1-score': 0.25316259216142806,\n  'support': 6388},\n '1': {'precision': 0.21345889739062193,\n  'recall': 0.5740415054519873,\n  'f1-score': 0.3111979787386185,\n  'support': 5686},\n '2': {'precision': 0.24829425947776124,\n  'recall': 0.3338391502276176,\n  'f1-score': 0.28478126562913714,\n  'support': 14498},\n '3': {'precision': 0.3868049010367578,\n  'recall': 0.32606795730819144,\n  'f1-score': 0.3538490278635991,\n  'support': 37759},\n '4': {'precision': 0.5054256457282592,\n  'recall': 0.3164946644760978,\n  'f1-score': 0.38924581416562853,\n  'support': 62693},\n '5': {'precision': 0.581220640114058,\n  'recall': 0.6006535824250553,\n  'f1-score': 0.5907773483947681,\n  'support': 52939},\n 'accuracy': 0.4185193623133644,\n 'macro avg': {'precision': 0.3505841381222547,\n  'recall': 0.4436236365312724,\n  'f1-score': 0.3638356711588632,\n  'support': 179963},\n 'weighted avg': {'precision': 0.46092728336074346,\n  'recall': 0.4185193623133644,\n  'f1-score': 0.42539059946869207,\n  'support': 179963}}"
     },
     "execution_count": 230,
     "metadata": {},
     "output_type": "execute_result"
    }
   ],
   "source": [
    "clf = LinearSVC(random_state = 0)\n",
    "\n",
    "# Fitting the Training data into model\n",
    "clf.fit(tf_x_train, Y_train)\n",
    "\n",
    "# Predicting the Test data\n",
    "y_test_pred = clf.predict(tf_x_test)\n",
    "\n",
    "# Analyzing the Report\n",
    "report = classification_report(Y_test, y_test_pred, output_dict=True)\n",
    "report"
   ],
   "metadata": {
    "collapsed": false,
    "pycharm": {
     "name": "#%%\n"
    }
   }
  },
  {
   "cell_type": "code",
   "execution_count": 185,
   "outputs": [
    {
     "data": {
      "text/plain": "              Accuracy       MSE\nVader         0.261228  3.610894\nTextBlob      0.192986  2.967029\nTF-IDF + SVM  0.418519          ",
      "text/html": "<div>\n<style scoped>\n    .dataframe tbody tr th:only-of-type {\n        vertical-align: middle;\n    }\n\n    .dataframe tbody tr th {\n        vertical-align: top;\n    }\n\n    .dataframe thead th {\n        text-align: right;\n    }\n</style>\n<table border=\"1\" class=\"dataframe\">\n  <thead>\n    <tr style=\"text-align: right;\">\n      <th></th>\n      <th>Accuracy</th>\n      <th>MSE</th>\n    </tr>\n  </thead>\n  <tbody>\n    <tr>\n      <th>Vader</th>\n      <td>0.261228</td>\n      <td>3.610894</td>\n    </tr>\n    <tr>\n      <th>TextBlob</th>\n      <td>0.192986</td>\n      <td>2.967029</td>\n    </tr>\n    <tr>\n      <th>TF-IDF + SVM</th>\n      <td>0.418519</td>\n      <td></td>\n    </tr>\n  </tbody>\n</table>\n</div>"
     },
     "execution_count": 185,
     "metadata": {},
     "output_type": "execute_result"
    }
   ],
   "source": [
    "results.loc['TF-IDF + SVM'] = [report['accuracy'], '']\n",
    "results"
   ],
   "metadata": {
    "collapsed": false,
    "pycharm": {
     "name": "#%%\n"
    }
   }
  },
  {
   "cell_type": "markdown",
   "source": [
    "## Logistic Regression"
   ],
   "metadata": {
    "collapsed": false,
    "pycharm": {
     "name": "#%% md\n"
    }
   }
  },
  {
   "cell_type": "code",
   "execution_count": 231,
   "outputs": [
    {
     "data": {
      "text/plain": "{'0': {'precision': 0.1818861875500935,\n  'recall': 0.532874139010645,\n  'f1-score': 0.271202645102179,\n  'support': 6388},\n '1': {'precision': 0.25930893026191226,\n  'recall': 0.57808652831516,\n  'f1-score': 0.3580220019605707,\n  'support': 5686},\n '2': {'precision': 0.2994470438111442,\n  'recall': 0.3884673748103187,\n  'f1-score': 0.3381973218038792,\n  'support': 14498},\n '3': {'precision': 0.42404798854005016,\n  'recall': 0.37630763526576444,\n  'f1-score': 0.398753981506167,\n  'support': 37759},\n '4': {'precision': 0.5295817902628489,\n  'recall': 0.37407685068508445,\n  'f1-score': 0.4384493863166849,\n  'support': 62693},\n '5': {'precision': 0.615042715308243,\n  'recall': 0.6038081565575474,\n  'f1-score': 0.6093736595781186,\n  'support': 52939},\n 'accuracy': 0.4553658251974017,\n 'macro avg': {'precision': 0.3848857759557154,\n  'recall': 0.47560344744075334,\n  'f1-score': 0.4023331660445999,\n  'support': 179963},\n 'weighted avg': {'precision': 0.49315775057455596,\n  'recall': 0.4553658251974017,\n  'f1-score': 0.46384663236344403,\n  'support': 179963}}"
     },
     "execution_count": 231,
     "metadata": {},
     "output_type": "execute_result"
    }
   ],
   "source": [
    "clf = LogisticRegression(max_iter = 1000, solver = 'saga')\n",
    "\n",
    "# Fitting the Training data into model\n",
    "clf.fit(tf_x_train, Y_train)\n",
    "\n",
    "# Predicting the Test data\n",
    "y_test_pred = clf.predict(tf_x_test)\n",
    "\n",
    "# Analyzing the Report\n",
    "report = classification_report(Y_test, y_test_pred, output_dict=True)\n",
    "report"
   ],
   "metadata": {
    "collapsed": false,
    "pycharm": {
     "name": "#%%\n"
    }
   }
  },
  {
   "cell_type": "code",
   "execution_count": 232,
   "outputs": [
    {
     "data": {
      "text/plain": "                             Accuracy       MSE\nVader                        0.261228  3.610894\nTextBlob                     0.192986  2.967029\nTF-IDF + LinearSVC           0.418519          \nTF-IDF + LogisticRegression  0.455366          ",
      "text/html": "<div>\n<style scoped>\n    .dataframe tbody tr th:only-of-type {\n        vertical-align: middle;\n    }\n\n    .dataframe tbody tr th {\n        vertical-align: top;\n    }\n\n    .dataframe thead th {\n        text-align: right;\n    }\n</style>\n<table border=\"1\" class=\"dataframe\">\n  <thead>\n    <tr style=\"text-align: right;\">\n      <th></th>\n      <th>Accuracy</th>\n      <th>MSE</th>\n    </tr>\n  </thead>\n  <tbody>\n    <tr>\n      <th>Vader</th>\n      <td>0.261228</td>\n      <td>3.610894</td>\n    </tr>\n    <tr>\n      <th>TextBlob</th>\n      <td>0.192986</td>\n      <td>2.967029</td>\n    </tr>\n    <tr>\n      <th>TF-IDF + LinearSVC</th>\n      <td>0.418519</td>\n      <td></td>\n    </tr>\n    <tr>\n      <th>TF-IDF + LogisticRegression</th>\n      <td>0.455366</td>\n      <td></td>\n    </tr>\n  </tbody>\n</table>\n</div>"
     },
     "execution_count": 232,
     "metadata": {},
     "output_type": "execute_result"
    }
   ],
   "source": [
    "results.loc['TF-IDF + LogisticRegression'] = [report['accuracy'], '']\n",
    "results"
   ],
   "metadata": {
    "collapsed": false,
    "pycharm": {
     "name": "#%%\n"
    }
   }
  },
  {
   "cell_type": "markdown",
   "source": [
    "## Prediction on Test Dataset"
   ],
   "metadata": {
    "collapsed": false,
    "pycharm": {
     "name": "#%% md\n"
    }
   }
  },
  {
   "cell_type": "code",
   "execution_count": 243,
   "outputs": [
    {
     "name": "stdout",
     "output_type": "stream",
     "text": [
      "                             Accuracy       MSE\n",
      "Vader                        0.261228  3.610894\n",
      "TextBlob                     0.192986  2.967029\n",
      "TF-IDF + LinearSVC           0.418519          \n",
      "TF-IDF + LogisticRegression  0.455366          \n"
     ]
    }
   ],
   "source": [
    "print(results)"
   ],
   "metadata": {
    "collapsed": false,
    "pycharm": {
     "name": "#%%\n"
    }
   }
  },
  {
   "cell_type": "code",
   "execution_count": 233,
   "outputs": [
    {
     "data": {
      "text/plain": "                            user_id   book_id  \\\n0  b9450d1c1f97f891c392b1105959b56e   7092507   \n1  b9450d1c1f97f891c392b1105959b56e   5576654   \n2  b9450d1c1f97f891c392b1105959b56e  15754052   \n3  b9450d1c1f97f891c392b1105959b56e     17020   \n4  b9450d1c1f97f891c392b1105959b56e  12551082   \n\n                          review_id  \\\n0  5c4df7e70e9b438c761f07a4620ccb7c   \n1  8eaeaf13213eeb16ad879a2a2591bbe5   \n2  dce649b733c153ba5363a0413cac988f   \n3  8a46df0bb997269d6834f9437a4b0a77   \n4  d11d3091e22f1cf3cb865598de197599   \n\n                                         review_text  \\\n0  ** spoiler alert ** \\n This is definitely one ...   \n1  ** spoiler alert ** \\n \"You are what you drink...   \n2  Roar is one of my favorite characters in Under...   \n3  ** spoiler alert ** \\n If you feel like travel...   \n4  3.5 stars \\n I read and enjoyed the first two ...   \n\n                       date_added                    date_updated  \\\n0  Sat Nov 10 06:06:13 -0800 2012  Sun Nov 11 05:38:36 -0800 2012   \n1  Fri Nov 09 21:55:16 -0800 2012  Sat Nov 10 05:41:49 -0800 2012   \n2  Fri Nov 09 00:25:50 -0800 2012  Sat Nov 10 06:14:10 -0800 2012   \n3  Thu Nov 01 00:28:39 -0700 2012  Sat Nov 03 11:35:22 -0700 2012   \n4  Thu Oct 18 00:57:00 -0700 2012  Mon Apr 01 23:00:51 -0700 2013   \n\n                          read_at                      started_at  n_votes  \\\n0  Sun Nov 11 05:38:36 -0800 2012  Sat Nov 10 00:00:00 -0800 2012        1   \n1  Sat Nov 10 05:41:49 -0800 2012  Fri Nov 09 00:00:00 -0800 2012        1   \n2  Sat Nov 10 06:14:10 -0800 2012  Fri Nov 09 00:00:00 -0800 2012        0   \n3  Sat Nov 03 11:35:22 -0700 2012  Thu Nov 01 00:00:00 -0700 2012        0   \n4  Sat Mar 30 00:00:00 -0700 2013  Fri Mar 29 00:00:00 -0700 2013        0   \n\n   n_comments  \n0           0  \n1           0  \n2           0  \n3           0  \n4           0  ",
      "text/html": "<div>\n<style scoped>\n    .dataframe tbody tr th:only-of-type {\n        vertical-align: middle;\n    }\n\n    .dataframe tbody tr th {\n        vertical-align: top;\n    }\n\n    .dataframe thead th {\n        text-align: right;\n    }\n</style>\n<table border=\"1\" class=\"dataframe\">\n  <thead>\n    <tr style=\"text-align: right;\">\n      <th></th>\n      <th>user_id</th>\n      <th>book_id</th>\n      <th>review_id</th>\n      <th>review_text</th>\n      <th>date_added</th>\n      <th>date_updated</th>\n      <th>read_at</th>\n      <th>started_at</th>\n      <th>n_votes</th>\n      <th>n_comments</th>\n    </tr>\n  </thead>\n  <tbody>\n    <tr>\n      <th>0</th>\n      <td>b9450d1c1f97f891c392b1105959b56e</td>\n      <td>7092507</td>\n      <td>5c4df7e70e9b438c761f07a4620ccb7c</td>\n      <td>** spoiler alert ** \\n This is definitely one ...</td>\n      <td>Sat Nov 10 06:06:13 -0800 2012</td>\n      <td>Sun Nov 11 05:38:36 -0800 2012</td>\n      <td>Sun Nov 11 05:38:36 -0800 2012</td>\n      <td>Sat Nov 10 00:00:00 -0800 2012</td>\n      <td>1</td>\n      <td>0</td>\n    </tr>\n    <tr>\n      <th>1</th>\n      <td>b9450d1c1f97f891c392b1105959b56e</td>\n      <td>5576654</td>\n      <td>8eaeaf13213eeb16ad879a2a2591bbe5</td>\n      <td>** spoiler alert ** \\n \"You are what you drink...</td>\n      <td>Fri Nov 09 21:55:16 -0800 2012</td>\n      <td>Sat Nov 10 05:41:49 -0800 2012</td>\n      <td>Sat Nov 10 05:41:49 -0800 2012</td>\n      <td>Fri Nov 09 00:00:00 -0800 2012</td>\n      <td>1</td>\n      <td>0</td>\n    </tr>\n    <tr>\n      <th>2</th>\n      <td>b9450d1c1f97f891c392b1105959b56e</td>\n      <td>15754052</td>\n      <td>dce649b733c153ba5363a0413cac988f</td>\n      <td>Roar is one of my favorite characters in Under...</td>\n      <td>Fri Nov 09 00:25:50 -0800 2012</td>\n      <td>Sat Nov 10 06:14:10 -0800 2012</td>\n      <td>Sat Nov 10 06:14:10 -0800 2012</td>\n      <td>Fri Nov 09 00:00:00 -0800 2012</td>\n      <td>0</td>\n      <td>0</td>\n    </tr>\n    <tr>\n      <th>3</th>\n      <td>b9450d1c1f97f891c392b1105959b56e</td>\n      <td>17020</td>\n      <td>8a46df0bb997269d6834f9437a4b0a77</td>\n      <td>** spoiler alert ** \\n If you feel like travel...</td>\n      <td>Thu Nov 01 00:28:39 -0700 2012</td>\n      <td>Sat Nov 03 11:35:22 -0700 2012</td>\n      <td>Sat Nov 03 11:35:22 -0700 2012</td>\n      <td>Thu Nov 01 00:00:00 -0700 2012</td>\n      <td>0</td>\n      <td>0</td>\n    </tr>\n    <tr>\n      <th>4</th>\n      <td>b9450d1c1f97f891c392b1105959b56e</td>\n      <td>12551082</td>\n      <td>d11d3091e22f1cf3cb865598de197599</td>\n      <td>3.5 stars \\n I read and enjoyed the first two ...</td>\n      <td>Thu Oct 18 00:57:00 -0700 2012</td>\n      <td>Mon Apr 01 23:00:51 -0700 2013</td>\n      <td>Sat Mar 30 00:00:00 -0700 2013</td>\n      <td>Fri Mar 29 00:00:00 -0700 2013</td>\n      <td>0</td>\n      <td>0</td>\n    </tr>\n  </tbody>\n</table>\n</div>"
     },
     "execution_count": 233,
     "metadata": {},
     "output_type": "execute_result"
    }
   ],
   "source": [
    "df_to_predict = pd.read_csv('./data/goodreads_test.csv')\n",
    "df_to_predict.head()"
   ],
   "metadata": {
    "collapsed": false,
    "pycharm": {
     "name": "#%%\n"
    }
   }
  },
  {
   "cell_type": "code",
   "execution_count": 234,
   "outputs": [
    {
     "data": {
      "text/plain": "478033"
     },
     "execution_count": 234,
     "metadata": {},
     "output_type": "execute_result"
    }
   ],
   "source": [
    "len(df_to_predict)"
   ],
   "metadata": {
    "collapsed": false,
    "pycharm": {
     "name": "#%%\n"
    }
   }
  },
  {
   "cell_type": "code",
   "execution_count": 235,
   "outputs": [
    {
     "name": "stderr",
     "output_type": "stream",
     "text": [
      "[nltk_data] Downloading package stopwords to\n",
      "[nltk_data]     C:\\Users\\dalex\\AppData\\Roaming\\nltk_data...\n",
      "[nltk_data]   Package stopwords is already up-to-date!\n",
      "100%|██████████| 478033/478033 [13:31<00:00, 588.95it/s] \n"
     ]
    }
   ],
   "source": [
    "from clean_reviews import clean_data\n",
    "\n",
    "df_to_predict['cleaned_review_text'] = clean_data(df_to_predict['review_text'])"
   ],
   "metadata": {
    "collapsed": false,
    "pycharm": {
     "name": "#%%\n"
    }
   }
  },
  {
   "cell_type": "code",
   "execution_count": 236,
   "outputs": [],
   "source": [
    "df_to_predict = df_to_predict.drop(columns = ['user_id',\n",
    "                                              'book_id',\n",
    "                                              'review_text',\n",
    "                                              'date_added',\n",
    "                                              'date_updated',\n",
    "                                              'read_at',\n",
    "                                              'started_at',\n",
    "                                              'n_votes',\n",
    "                                              'n_comments'])"
   ],
   "metadata": {
    "collapsed": false,
    "pycharm": {
     "name": "#%%\n"
    }
   }
  },
  {
   "cell_type": "code",
   "execution_count": 237,
   "outputs": [
    {
     "data": {
      "text/plain": "                          review_id  \\\n0  5c4df7e70e9b438c761f07a4620ccb7c   \n1  8eaeaf13213eeb16ad879a2a2591bbe5   \n2  dce649b733c153ba5363a0413cac988f   \n3  8a46df0bb997269d6834f9437a4b0a77   \n4  d11d3091e22f1cf3cb865598de197599   \n\n                                 cleaned_review_text  \n0  spoiler alert definit one favorit among food b...  \n1  spoiler alert drink huge fan coffe not buy cof...  \n2  roar one favorit charact never sky happi read ...  \n3  spoiler alert feel like travel europ not money...  \n4  star read enjoy first two novel seri say book ...  ",
      "text/html": "<div>\n<style scoped>\n    .dataframe tbody tr th:only-of-type {\n        vertical-align: middle;\n    }\n\n    .dataframe tbody tr th {\n        vertical-align: top;\n    }\n\n    .dataframe thead th {\n        text-align: right;\n    }\n</style>\n<table border=\"1\" class=\"dataframe\">\n  <thead>\n    <tr style=\"text-align: right;\">\n      <th></th>\n      <th>review_id</th>\n      <th>cleaned_review_text</th>\n    </tr>\n  </thead>\n  <tbody>\n    <tr>\n      <th>0</th>\n      <td>5c4df7e70e9b438c761f07a4620ccb7c</td>\n      <td>spoiler alert definit one favorit among food b...</td>\n    </tr>\n    <tr>\n      <th>1</th>\n      <td>8eaeaf13213eeb16ad879a2a2591bbe5</td>\n      <td>spoiler alert drink huge fan coffe not buy cof...</td>\n    </tr>\n    <tr>\n      <th>2</th>\n      <td>dce649b733c153ba5363a0413cac988f</td>\n      <td>roar one favorit charact never sky happi read ...</td>\n    </tr>\n    <tr>\n      <th>3</th>\n      <td>8a46df0bb997269d6834f9437a4b0a77</td>\n      <td>spoiler alert feel like travel europ not money...</td>\n    </tr>\n    <tr>\n      <th>4</th>\n      <td>d11d3091e22f1cf3cb865598de197599</td>\n      <td>star read enjoy first two novel seri say book ...</td>\n    </tr>\n  </tbody>\n</table>\n</div>"
     },
     "execution_count": 237,
     "metadata": {},
     "output_type": "execute_result"
    }
   ],
   "source": [
    "df_to_predict.head()"
   ],
   "metadata": {
    "collapsed": false,
    "pycharm": {
     "name": "#%%\n"
    }
   }
  },
  {
   "cell_type": "code",
   "execution_count": 244,
   "outputs": [
    {
     "data": {
      "text/plain": "                          review_id  \\\n0  5c4df7e70e9b438c761f07a4620ccb7c   \n1  8eaeaf13213eeb16ad879a2a2591bbe5   \n2  dce649b733c153ba5363a0413cac988f   \n3  8a46df0bb997269d6834f9437a4b0a77   \n4  d11d3091e22f1cf3cb865598de197599   \n\n                                 cleaned_review_text Prediction  \n0  spoiler alert definit one favorit among food b...          4  \n1  spoiler alert drink huge fan coffe not buy cof...          3  \n2  roar one favorit charact never sky happi read ...          4  \n3  spoiler alert feel like travel europ not money...          3  \n4  star read enjoy first two novel seri say book ...          4  ",
      "text/html": "<div>\n<style scoped>\n    .dataframe tbody tr th:only-of-type {\n        vertical-align: middle;\n    }\n\n    .dataframe tbody tr th {\n        vertical-align: top;\n    }\n\n    .dataframe thead th {\n        text-align: right;\n    }\n</style>\n<table border=\"1\" class=\"dataframe\">\n  <thead>\n    <tr style=\"text-align: right;\">\n      <th></th>\n      <th>review_id</th>\n      <th>cleaned_review_text</th>\n      <th>Prediction</th>\n    </tr>\n  </thead>\n  <tbody>\n    <tr>\n      <th>0</th>\n      <td>5c4df7e70e9b438c761f07a4620ccb7c</td>\n      <td>spoiler alert definit one favorit among food b...</td>\n      <td>4</td>\n    </tr>\n    <tr>\n      <th>1</th>\n      <td>8eaeaf13213eeb16ad879a2a2591bbe5</td>\n      <td>spoiler alert drink huge fan coffe not buy cof...</td>\n      <td>3</td>\n    </tr>\n    <tr>\n      <th>2</th>\n      <td>dce649b733c153ba5363a0413cac988f</td>\n      <td>roar one favorit charact never sky happi read ...</td>\n      <td>4</td>\n    </tr>\n    <tr>\n      <th>3</th>\n      <td>8a46df0bb997269d6834f9437a4b0a77</td>\n      <td>spoiler alert feel like travel europ not money...</td>\n      <td>3</td>\n    </tr>\n    <tr>\n      <th>4</th>\n      <td>d11d3091e22f1cf3cb865598de197599</td>\n      <td>star read enjoy first two novel seri say book ...</td>\n      <td>4</td>\n    </tr>\n  </tbody>\n</table>\n</div>"
     },
     "execution_count": 244,
     "metadata": {},
     "output_type": "execute_result"
    }
   ],
   "source": [
    "tf_x_predict = vectorizer.transform(df_to_predict['cleaned_review_text'])\n",
    "df_to_predict['Prediction'] = clf.predict(tf_x_predict)\n",
    "\n",
    "df_to_predict.head()"
   ],
   "metadata": {
    "collapsed": false,
    "pycharm": {
     "name": "#%%\n"
    }
   }
  },
  {
   "cell_type": "code",
   "execution_count": 246,
   "outputs": [
    {
     "data": {
      "text/plain": "                          review_id Prediction\n0  5c4df7e70e9b438c761f07a4620ccb7c          4\n1  8eaeaf13213eeb16ad879a2a2591bbe5          3\n2  dce649b733c153ba5363a0413cac988f          4\n3  8a46df0bb997269d6834f9437a4b0a77          3\n4  d11d3091e22f1cf3cb865598de197599          4",
      "text/html": "<div>\n<style scoped>\n    .dataframe tbody tr th:only-of-type {\n        vertical-align: middle;\n    }\n\n    .dataframe tbody tr th {\n        vertical-align: top;\n    }\n\n    .dataframe thead th {\n        text-align: right;\n    }\n</style>\n<table border=\"1\" class=\"dataframe\">\n  <thead>\n    <tr style=\"text-align: right;\">\n      <th></th>\n      <th>review_id</th>\n      <th>Prediction</th>\n    </tr>\n  </thead>\n  <tbody>\n    <tr>\n      <th>0</th>\n      <td>5c4df7e70e9b438c761f07a4620ccb7c</td>\n      <td>4</td>\n    </tr>\n    <tr>\n      <th>1</th>\n      <td>8eaeaf13213eeb16ad879a2a2591bbe5</td>\n      <td>3</td>\n    </tr>\n    <tr>\n      <th>2</th>\n      <td>dce649b733c153ba5363a0413cac988f</td>\n      <td>4</td>\n    </tr>\n    <tr>\n      <th>3</th>\n      <td>8a46df0bb997269d6834f9437a4b0a77</td>\n      <td>3</td>\n    </tr>\n    <tr>\n      <th>4</th>\n      <td>d11d3091e22f1cf3cb865598de197599</td>\n      <td>4</td>\n    </tr>\n  </tbody>\n</table>\n</div>"
     },
     "execution_count": 246,
     "metadata": {},
     "output_type": "execute_result"
    }
   ],
   "source": [
    "resultat = df_to_predict.drop(columns = ['cleaned_review_text'])\n",
    "resultat.head()"
   ],
   "metadata": {
    "collapsed": false,
    "pycharm": {
     "name": "#%%\n"
    }
   }
  },
  {
   "cell_type": "code",
   "execution_count": 250,
   "outputs": [],
   "source": [
    "resultat.to_csv('./submits/first.csv', index=False)"
   ],
   "metadata": {
    "collapsed": false,
    "pycharm": {
     "name": "#%%\n"
    }
   }
  }
 ],
 "metadata": {
  "kernelspec": {
   "display_name": "Python 3",
   "language": "python",
   "name": "python3"
  },
  "language_info": {
   "codemirror_mode": {
    "name": "ipython",
    "version": 2
   },
   "file_extension": ".py",
   "mimetype": "text/x-python",
   "name": "python",
   "nbconvert_exporter": "python",
   "pygments_lexer": "ipython2",
   "version": "2.7.6"
  }
 },
 "nbformat": 4,
 "nbformat_minor": 0
}